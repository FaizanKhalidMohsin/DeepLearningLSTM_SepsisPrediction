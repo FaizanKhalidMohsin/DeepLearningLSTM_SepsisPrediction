{
 "cells": [
  {
   "cell_type": "markdown",
   "metadata": {},
   "source": [
    "# 1. Packages"
   ]
  },
  {
   "cell_type": "code",
   "execution_count": 84,
   "metadata": {},
   "outputs": [],
   "source": [
    "import numpy as np\n",
    "import tensorflow as tf\n",
    "import pandas as pd\n",
    "import matplotlib.pyplot as plt\n",
    "import sklearn as skm\n",
    "%matplotlib inline\n",
    "#plt.rcParams['figure.figsize'] = [20, 6]"
   ]
  },
  {
   "cell_type": "markdown",
   "metadata": {},
   "source": [
    "# 2. Data Import"
   ]
  },
  {
   "cell_type": "markdown",
   "metadata": {},
   "source": [
    "## 2.1 Training Data"
   ]
  },
  {
   "cell_type": "code",
   "execution_count": 85,
   "metadata": {},
   "outputs": [],
   "source": [
    "train_data = pd.read_csv('../train_sample_and_hold_NA_constant.csv')\n",
    "#train_data = train_data[train_data.filename.isin(train_data.filename.unique()[0:1001])].set_index('filename').drop(['Unit1','Unit2', 'GotSepsis', 'Hospital'], axis=1)\n",
    "train_data = train_data.set_index('filename').drop(['Unit1','Unit2', 'GotSepsis', 'Hospital'], axis=1)\n"
   ]
  },
  {
   "cell_type": "markdown",
   "metadata": {},
   "source": [
    "## 2.2 Validation Data"
   ]
  },
  {
   "cell_type": "code",
   "execution_count": 86,
   "metadata": {},
   "outputs": [],
   "source": [
    "val_data = pd.read_csv('../val_sample_and_hold_NA_constant.csv')\n",
    "#val_data = val_data[val_data.filename.isin(val_data.filename.unique()[0:501])].set_index('filename').drop(['Unit1','Unit2', 'GotSepsis', 'Hospital'], axis=1)\n",
    "val_data = val_data.set_index('filename').drop(['Unit1','Unit2', 'GotSepsis', 'Hospital'], axis=1)"
   ]
  },
  {
   "cell_type": "markdown",
   "metadata": {},
   "source": [
    "# 3. Formatting Data for LSTM"
   ]
  },
  {
   "cell_type": "markdown",
   "metadata": {},
   "source": [
    "## 3.1 Function to Convert Data for LSTM"
   ]
  },
  {
   "cell_type": "markdown",
   "metadata": {},
   "source": [
    "convert series to supervised learning; modified by Andy, taken from https://machinelearningmastery.com/multivariate-time-series-forecasting-lstms-keras/"
   ]
  },
  {
   "cell_type": "code",
   "execution_count": 87,
   "metadata": {},
   "outputs": [],
   "source": [
    "#How many hours back do we want to evaluate the onset of sepsis? I am going to start with 5 hours, but this is another hyperparameter we could tune.\n",
    "num_of_past_hours = 4\n",
    "\n",
    "def series_to_supervised(data, n_in= num_of_past_hours, n_out=1, dropnan=True):\n",
    "\tvalues = data.values\n",
    "\tn_vars = 1 if type(values) is list else data.shape[1]\n",
    "\tdf = pd.DataFrame(values)\n",
    "\tcols, names = list(), list()\n",
    "\t# input sequence (t-n, ... t-1)\n",
    "\tfor i in range(n_in, 0, -1):\n",
    "\t\tcols.append(df.shift(i))\n",
    "\t\tnames += [('var%d(t-%d)' % (j+1, i)) for j in range(n_vars)]\n",
    "\t# forecast sequence (t, t+1, ... t+n)\n",
    "\tfor i in range(0, n_out):\n",
    "\t\tcols.append(df.shift(-i))\n",
    "\t\tif i == 0:\n",
    "\t\t\tnames += [('var%d(t)' % (j+1)) for j in range(n_vars)]\n",
    "\t\telse:\n",
    "\t\t\tnames += [('var%d(t+%d)' % (j+1, i)) for j in range(n_vars)]\n",
    "\t# put it all together\n",
    "\tagg = pd.concat(cols, axis=1)\n",
    "\tagg.columns = names\n",
    "\t# drop rows with NaN values\n",
    "\tif dropnan:\n",
    "\t\tagg.dropna(inplace=True)\n",
    "\treturn agg"
   ]
  },
  {
   "cell_type": "code",
   "execution_count": 88,
   "metadata": {},
   "outputs": [],
   "source": [
    "# oversampling septic \n",
    "\n",
    "### Oversampling \n",
    "from sklearn.utils import resample\n",
    "\n",
    "# separate minority and majority classes\n",
    "not_sepsis = train_data[train_data.SepsisLabel==0]\n",
    "sepsis = train_data[train_data.SepsisLabel==1]\n",
    "\n",
    "# upsample minority\n",
    "sepsis_upsampled = resample(sepsis,\n",
    "                          replace=True, # sample with replacement\n",
    "                          n_samples=len(not_sepsis), # match number in majority class\n",
    "                          random_state=27) # reproducible results\n",
    "\n",
    "# combine majority and upsampled minority\n",
    "upsampled_train = pd.concat([not_sepsis, sepsis_upsampled])"
   ]
  },
  {
   "cell_type": "code",
   "execution_count": 89,
   "metadata": {},
   "outputs": [],
   "source": [
    "converted_train = upsampled_train.groupby('filename').apply(series_to_supervised)\n",
    "converted_val = val_data.groupby('filename').apply(series_to_supervised)"
   ]
  },
  {
   "cell_type": "markdown",
   "metadata": {},
   "source": [
    "## 3.2 Splitting Data into Input and Output Variables"
   ]
  },
  {
   "cell_type": "code",
   "execution_count": 90,
   "metadata": {},
   "outputs": [],
   "source": [
    "train_X, train_y = converted_train.iloc[:, :-1].values, converted_train.iloc[:, -1].values\n",
    "val_X, val_y = converted_val.iloc[:, :-1].values, converted_val.iloc[:, -1].values"
   ]
  },
  {
   "cell_type": "markdown",
   "metadata": {},
   "source": [
    "## 3.3 Reshaping Data into 3D Input for LSTM"
   ]
  },
  {
   "cell_type": "markdown",
   "metadata": {},
   "source": [
    "I found this link to helpful with explaining [samples, timesteps, features] when reshaping the data for the LSTM https://stats.stackexchange.com/questions/264546/difference-between-samples-time-steps-and-features-in-neural-network . Might be redundant for you guys, but I thought I'd include it anyways just in case."
   ]
  },
  {
   "cell_type": "code",
   "execution_count": 91,
   "metadata": {},
   "outputs": [],
   "source": [
    "train_X = train_X.reshape((train_X.shape[0], 1, train_X.shape[1]))\n",
    "val_X = val_X.reshape((val_X.shape[0], 1, val_X.shape[1]))"
   ]
  },
  {
   "cell_type": "code",
   "execution_count": 92,
   "metadata": {},
   "outputs": [
    {
     "name": "stdout",
     "output_type": "stream",
     "text": [
      "(1733552, 1, 174) (1733552,) (278775, 1, 174) (278775,)\n"
     ]
    }
   ],
   "source": [
    "print(train_X.shape, train_y.shape, val_X.shape, val_y.shape)"
   ]
  },
  {
   "cell_type": "markdown",
   "metadata": {},
   "source": [
    "# 4. Building the LSTM"
   ]
  },
  {
   "cell_type": "markdown",
   "metadata": {},
   "source": [
    "As a proof of concept, I just made the model based on the example from: (https://machinelearningmastery.com/multivariate-time-series-forecasting-lstms-keras/) and continued to modify it slowly. \n",
    "\n",
    "Looking at the results, though, I am quite skeptical. It seems to be working _too_ well, which makes me think something is wrong somewhere. Just don't know what yet.\n",
    "\n",
    "I found that changing the optimizer to RMS prop and adjusting some hyperparameters stopped the model from eventually always predicting 'no' so I am a little more comfortable with the results now (especially since the model seems to be predicting 'yes' accurately much more often). One thing I've noticed is that the model must either find some very obvious \"no's\" since I haven't seen anything other than 265685 actual-predicted 'no' (i.e. the top left of the confusion matrix), or again there is some weirdness going on. Please let me know what you guys think!"
   ]
  },
  {
   "cell_type": "code",
   "execution_count": 93,
   "metadata": {},
   "outputs": [
    {
     "name": "stdout",
     "output_type": "stream",
     "text": [
      "Model: \"sequential_12\"\n",
      "_________________________________________________________________\n",
      "Layer (type)                 Output Shape              Param #   \n",
      "=================================================================\n",
      "lstm_12 (LSTM)               (None, 50)                45000     \n",
      "_________________________________________________________________\n",
      "leaky_re_lu_24 (LeakyReLU)   (None, 50)                0         \n",
      "_________________________________________________________________\n",
      "dropout_27 (Dropout)         (None, 50)                0         \n",
      "_________________________________________________________________\n",
      "dense_32 (Dense)             (None, 128)               6528      \n",
      "_________________________________________________________________\n",
      "leaky_re_lu_25 (LeakyReLU)   (None, 128)               0         \n",
      "_________________________________________________________________\n",
      "dropout_28 (Dropout)         (None, 128)               0         \n",
      "_________________________________________________________________\n",
      "dense_33 (Dense)             (None, 32)                4128      \n",
      "_________________________________________________________________\n",
      "dropout_29 (Dropout)         (None, 32)                0         \n",
      "_________________________________________________________________\n",
      "leaky_re_lu_26 (LeakyReLU)   (None, 32)                0         \n",
      "_________________________________________________________________\n",
      "dense_34 (Dense)             (None, 1)                 33        \n",
      "=================================================================\n",
      "Total params: 55,689\n",
      "Trainable params: 55,689\n",
      "Non-trainable params: 0\n",
      "_________________________________________________________________\n",
      "Train on 1733552 samples, validate on 278775 samples\n",
      "Epoch 1/10\n",
      "1733552/1733552 - 181s - loss: 0.6839 - accuracy: 0.9769 - val_loss: 0.0633 - val_accuracy: 0.9840\n",
      "Epoch 2/10\n",
      "1733552/1733552 - 180s - loss: 0.5873 - accuracy: 0.9830 - val_loss: 0.1710 - val_accuracy: 0.9807\n",
      "Epoch 3/10\n",
      "1733552/1733552 - 184s - loss: 0.7661 - accuracy: 0.9833 - val_loss: 0.0379 - val_accuracy: 0.9973\n",
      "Epoch 4/10\n",
      "1733552/1733552 - 180s - loss: 1.2811 - accuracy: 0.9986 - val_loss: 0.0322 - val_accuracy: 0.9977\n",
      "Epoch 5/10\n",
      "1733552/1733552 - 173s - loss: 1.3078 - accuracy: 0.9990 - val_loss: 0.0305 - val_accuracy: 0.9980\n",
      "Epoch 6/10\n",
      "1733552/1733552 - 181s - loss: 1.2635 - accuracy: 0.9990 - val_loss: 0.0307 - val_accuracy: 0.9979\n",
      "Epoch 7/10\n",
      "1733552/1733552 - 136s - loss: 1.2748 - accuracy: 0.9990 - val_loss: 0.0289 - val_accuracy: 0.9980\n",
      "Epoch 8/10\n",
      "1733552/1733552 - 122s - loss: 1.2467 - accuracy: 0.9989 - val_loss: 0.0290 - val_accuracy: 0.9981\n",
      "Epoch 9/10\n",
      "1733552/1733552 - 144s - loss: 1.3812 - accuracy: 0.9989 - val_loss: 0.0294 - val_accuracy: 0.9980\n",
      "Epoch 10/10\n",
      "1733552/1733552 - 107s - loss: 1.3664 - accuracy: 0.9989 - val_loss: 0.0313 - val_accuracy: 0.9979\n"
     ]
    },
    {
     "data": {
      "text/plain": [
       "Text(0, 0.5, 'Loss')"
      ]
     },
     "execution_count": 93,
     "metadata": {},
     "output_type": "execute_result"
    },
    {
     "data": {
      "image/png": "[encoded data removed]",
      "text/plain": [
       "<Figure size 432x288 with 1 Axes>"
      ]
     },
     "metadata": {
      "needs_background": "light"
     },
     "output_type": "display_data"
    }
   ],
   "source": [
    "# Hyperparameters\n",
    "lr = 0.001\n",
    "epochs = 10\n",
    "decay = 0.1\n",
    "batch_size = 72\n",
    "momentum= 0.0\n",
    "\n",
    "\n",
    "#  Model Architecture\n",
    "model = tf.keras.Sequential()\n",
    "model.add(tf.keras.layers.LSTM(50, input_shape=(train_X.shape[1], train_X.shape[2])))\n",
    "model.add(tf.keras.layers.LeakyReLU(alpha=0.05))\n",
    "model.add(tf.keras.layers.Dropout(0.4))\n",
    "model.add(tf.keras.layers.Dense(128))\n",
    "model.add(tf.keras.layers.LeakyReLU(alpha=0.05))\n",
    "model.add(tf.keras.layers.Dropout(0.4))\n",
    "model.add(tf.keras.layers.Dense(32))\n",
    "model.add(tf.keras.layers.Dropout(0.3))\n",
    "model.add(tf.keras.layers.LeakyReLU(alpha=0.05))\n",
    "model.add(tf.keras.layers.Dense(1, activation= 'sigmoid'))\n",
    "\n",
    "model.summary()\n",
    "\n",
    "# Select and Tune Optimizer; I've included other potential ones below for quicker tuning. Some values are left as default as per recommendations from: https://keras.io/optimizers/\n",
    "\n",
    "#optimizer= tf.keras.optimizers.Adam(lr=lr, beta_1=0.9, beta_2=0.999, epsilon=None, decay=decay, amsgrad=False)\n",
    "#optimizer = tf.keras.optimizers.SGD(lr=lr, momentum=momentum, decay=decay, nesterov=False)\n",
    "optimizer= tf.keras.optimizers.RMSprop(lr=lr, rho=0.9, epsilon=None, decay=0.0)\n",
    "\n",
    "# Compile Model\n",
    "model.compile(optimizer= optimizer,\n",
    "              loss= 'binary_crossentropy',\n",
    "              metrics=['accuracy'])\n",
    "\n",
    "# Fit network\n",
    "history = model.fit(train_X, train_y, epochs= epochs, batch_size=batch_size, validation_data=(val_X, val_y), verbose=2, shuffle=False, class_weight={0:1, 1:100})\n",
    "\n",
    "# Plot history\n",
    "plt.plot(history.history['loss'], label='train')\n",
    "plt.plot(history.history['val_loss'], label='val')\n",
    "plt.legend()\n",
    "plt.xlabel('Epochs')\n",
    "plt.ylabel('Loss')"
   ]
  },
  {
   "cell_type": "markdown",
   "metadata": {},
   "source": [
    "# 5. Confusion Matrix Using Validation Data"
   ]
  },
  {
   "cell_type": "code",
   "execution_count": 94,
   "metadata": {},
   "outputs": [],
   "source": [
    "yhat = model.predict(val_X)\n",
    "confusion_matrix = tf.math.confusion_matrix(\n",
    "    val_y,\n",
    "    yhat,\n",
    ")\n",
    "confusion_matrix= pd.DataFrame(confusion_matrix.numpy())\n",
    "confusion_matrix.rename(columns={0:'Predicted Sepsis: No', 1: 'Predicted Sepsis: Yes'}, \n",
    "                 index={0:'Actual Sepsis: No',1:'Actual Sepsis: Yes'}, \n",
    "                 inplace=True)\n",
    "# Other metrics\n",
    "PPV = confusion_matrix.iloc[0,0] / (confusion_matrix.iloc[0,0] + confusion_matrix.iloc[0,1])\n",
    "NPV = confusion_matrix.iloc[1,1] / (confusion_matrix.iloc[1,0] + confusion_matrix.iloc[1,1])\n",
    "\n",
    "RR = confusion_matrix.iloc[0,0] / (confusion_matrix.iloc[0,0] + confusion_matrix.iloc[1,0])\n",
    "SR = confusion_matrix.iloc[1,1] / (confusion_matrix.iloc[0,1] + confusion_matrix.iloc[1,1])"
   ]
  },
  {
   "cell_type": "code",
   "execution_count": 95,
   "metadata": {},
   "outputs": [
    {
     "name": "stdout",
     "output_type": "stream",
     "text": [
      "                    Predicted Sepsis: No  Predicted Sepsis: Yes\n",
      "Actual Sepsis: No                 273614                      0\n",
      "Actual Sepsis: Yes                   710                   4451\n",
      "\n",
      "Precision/ Positive-Predictive Value (PPV): 1.0 \n",
      "Negative-Predictive Value (NPV): 0.8624297616740941 \n",
      "Sensitivity/ Recall-Rate (RR): 0.9974118196001808 \n",
      "Specificity Rate (SR): 1.0\n"
     ]
    }
   ],
   "source": [
    "print(confusion_matrix)\n",
    "print(\n",
    "    '\\nPrecision/ Positive-Predictive Value (PPV): ' + str(PPV), \n",
    "    '\\nNegative-Predictive Value (NPV): ' + str(NPV),\n",
    "    '\\nSensitivity/ Recall-Rate (RR): ' + str(RR),\n",
    "    '\\nSpecificity Rate (SR): ' + str(SR)\n",
    ")"
   ]
  },
  {
   "cell_type": "markdown",
   "metadata": {},
   "source": [
    "### what about in the training set"
   ]
  },
  {
   "cell_type": "code",
   "execution_count": 96,
   "metadata": {},
   "outputs": [
    {
     "name": "stdout",
     "output_type": "stream",
     "text": [
      "                    Predicted Sepsis: No  Predicted Sepsis: Yes\n",
      "Actual Sepsis: No                 819637                      0\n",
      "Actual Sepsis: Yes                 10431                 903484\n",
      "\n",
      "Precision/ Positive-Predictive Value (PPV): 1.0 \n",
      "Negative-Predictive Value (NPV): 0.9885864659186029 \n",
      "Sensitivity/ Recall-Rate (RR): 0.9874335596601724 \n",
      "Specificity Rate (SR): 1.0\n"
     ]
    }
   ],
   "source": [
    "yhat = model.predict(train_X)\n",
    "confusion_matrix = tf.math.confusion_matrix(\n",
    "    train_y,\n",
    "    yhat,\n",
    ")\n",
    "confusion_matrix= pd.DataFrame(confusion_matrix.numpy())\n",
    "confusion_matrix.rename(columns={0:'Predicted Sepsis: No', 1: 'Predicted Sepsis: Yes'}, \n",
    "                 index={0:'Actual Sepsis: No',1:'Actual Sepsis: Yes'}, \n",
    "                 inplace=True)\n",
    "# Other metrics\n",
    "PPV = confusion_matrix.iloc[0,0] / (confusion_matrix.iloc[0,0] + confusion_matrix.iloc[0,1])\n",
    "NPV = confusion_matrix.iloc[1,1] / (confusion_matrix.iloc[1,0] + confusion_matrix.iloc[1,1])\n",
    "\n",
    "RR = confusion_matrix.iloc[0,0] / (confusion_matrix.iloc[0,0] + confusion_matrix.iloc[1,0])\n",
    "SR = confusion_matrix.iloc[1,1] / (confusion_matrix.iloc[0,1] + confusion_matrix.iloc[1,1])\n",
    "\n",
    "print(confusion_matrix)\n",
    "print(\n",
    "    '\\nPrecision/ Positive-Predictive Value (PPV): ' + str(PPV), \n",
    "    '\\nNegative-Predictive Value (NPV): ' + str(NPV),\n",
    "    '\\nSensitivity/ Recall-Rate (RR): ' + str(RR),\n",
    "    '\\nSpecificity Rate (SR): ' + str(SR)\n",
    ")"
   ]
  },
  {
   "cell_type": "markdown",
   "metadata": {},
   "source": [
    "### what about the original training set??? "
   ]
  },
  {
   "cell_type": "code",
   "execution_count": 97,
   "metadata": {},
   "outputs": [],
   "source": [
    "converted_train_original = train_data.groupby('filename').apply(series_to_supervised)\n",
    "train_original_X, train_original_y = converted_train_original.iloc[:, :-1].values, converted_train_original.iloc[:, -1].values"
   ]
  },
  {
   "cell_type": "code",
   "execution_count": 99,
   "metadata": {},
   "outputs": [],
   "source": [
    "train_original_X = train_original_X.reshape((train_original_X.shape[0], 1, train_original_X.shape[1]))"
   ]
  },
  {
   "cell_type": "code",
   "execution_count": 100,
   "metadata": {},
   "outputs": [
    {
     "name": "stdout",
     "output_type": "stream",
     "text": [
      "                    Predicted Sepsis: No  Predicted Sepsis: Yes\n",
      "Actual Sepsis: No                 819637                      0\n",
      "Actual Sepsis: Yes                  2139                  13318\n",
      "\n",
      "Precision/ Positive-Predictive Value (PPV): 1.0 \n",
      "Negative-Predictive Value (NPV): 0.8616160962670635 \n",
      "Sensitivity/ Recall-Rate (RR): 0.9973971009131443 \n",
      "Specificity Rate (SR): 1.0\n"
     ]
    }
   ],
   "source": [
    "yhat = model.predict(train_original_X)\n",
    "confusion_matrix = tf.math.confusion_matrix(\n",
    "    train_original_y,\n",
    "    yhat,\n",
    ")\n",
    "confusion_matrix= pd.DataFrame(confusion_matrix.numpy())\n",
    "confusion_matrix.rename(columns={0:'Predicted Sepsis: No', 1: 'Predicted Sepsis: Yes'}, \n",
    "                 index={0:'Actual Sepsis: No',1:'Actual Sepsis: Yes'}, \n",
    "                 inplace=True)\n",
    "# Other metrics\n",
    "PPV = confusion_matrix.iloc[0,0] / (confusion_matrix.iloc[0,0] + confusion_matrix.iloc[0,1])\n",
    "NPV = confusion_matrix.iloc[1,1] / (confusion_matrix.iloc[1,0] + confusion_matrix.iloc[1,1])\n",
    "\n",
    "RR = confusion_matrix.iloc[0,0] / (confusion_matrix.iloc[0,0] + confusion_matrix.iloc[1,0])\n",
    "SR = confusion_matrix.iloc[1,1] / (confusion_matrix.iloc[0,1] + confusion_matrix.iloc[1,1])\n",
    "\n",
    "print(confusion_matrix)\n",
    "print(\n",
    "    '\\nPrecision/ Positive-Predictive Value (PPV): ' + str(PPV), \n",
    "    '\\nNegative-Predictive Value (NPV): ' + str(NPV),\n",
    "    '\\nSensitivity/ Recall-Rate (RR): ' + str(RR),\n",
    "    '\\nSpecificity Rate (SR): ' + str(SR)\n",
    ")"
   ]
  },
  {
   "cell_type": "markdown",
   "metadata": {},
   "source": [
    "Eventually, this will need to be modified for us to use tools such as GCP, mlflow, etc. But I think this is a sufficient start for now to get us moving along."
   ]
  },
  {
   "cell_type": "markdown",
   "metadata": {},
   "source": [
    "I've left some links below for my own convenience when I come back to this. "
   ]
  },
  {
   "cell_type": "markdown",
   "metadata": {},
   "source": [
    "https://towardsdatascience.com/hyperparameter-tuning-c5619e7e6624\n",
    "\n",
    "https://keras.io/optimizers/\n",
    "\n",
    "https://machinelearningmastery.com/multivariate-time-series-forecasting-lstms-keras/\n"
   ]
  },
  {
   "cell_type": "code",
   "execution_count": null,
   "metadata": {},
   "outputs": [],
   "source": []
  }
 ],
 "metadata": {
  "kernelspec": {
   "display_name": "Python 3",
   "language": "python",
   "name": "python3"
  },
  "language_info": {
   "codemirror_mode": {
    "name": "ipython",
    "version": 3
   },
   "file_extension": ".py",
   "mimetype": "text/x-python",
   "name": "python",
   "nbconvert_exporter": "python",
   "pygments_lexer": "ipython3",
   "version": "3.7.0"
  }
 },
 "nbformat": 4,
 "nbformat_minor": 2
}
